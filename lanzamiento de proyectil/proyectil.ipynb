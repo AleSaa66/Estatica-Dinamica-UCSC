{
 "cells": [
  {
   "cell_type": "markdown",
   "metadata": {},
   "source": [
    "<h1><center> <b>Estática y Dinámica (IN1053C)</b></center></h1>\n",
    "\n",
    "<h4><center>Mg. Alejandro Saavedra</center></h4>\n",
    "\n",
    "<h3><center> <b> Representación gráfica del movimiento de un proyectil (parabólico) </b></center></h3>"
   ]
  },
  {
   "cell_type": "code",
   "execution_count": 3,
   "metadata": {},
   "outputs": [],
   "source": [
    "#Módulos de Python a utilizar:\n",
    "import numpy as np\n",
    "import matplotlib.pyplot as plt\n",
    "import ipywidgets as widgets\n",
    "\n",
    "plt.style.use('bmh')            #Estilo de los gráficos."
   ]
  },
  {
   "cell_type": "markdown",
   "metadata": {},
   "source": [
    "<h3><left> <b>Marco conceptual:</b> </left></h3>\n",
    "\n",
    "Considere las coordenadas $(x,y)$ de una partícula que describe un movimiento parabólico:\n",
    "$$\n",
    "\\begin{aligned}\n",
    "x(t) &= x_i + v_i \\cos(\\alpha) (t - t_i), \\\\\n",
    "y(t) &= y_i + v_i \\sin(\\alpha) (t-t_i) - \\frac{g}{2} (t - t_i)^2,\n",
    "\\end{aligned}\n",
    "$$\n",
    "donde $x_i$, $y_i$ son las coordenadas de la posición inicial, $v_i$ es el módulo de la velocidad inicial, $\\alpha$ el ángulo de lanzamiento, $t_i$ el tiempo inicial y $g = 9,8 \\ {\\rm m/s^2}$ es la magnitud de la aceleración de gravedad. \n",
    "\n",
    "El vector posición de la partícula queda entonces descrito por \n",
    "$$\\vec{r} = x(t) \\, \\hat{\\imath} + y(t) \\, \\hat{\\jmath}.$$\n",
    "\n",
    "Por otro lado, su velocidad y aceleración están dados, respectivamente, por los siguientes vectores:\n",
    "$$\n",
    "\\begin{aligned}\n",
    "\\vec{v} &= v_i \\cos(\\alpha) \\hat{\\imath} + \\left(v_i \\sin(\\alpha) - g (t - t_i)\\right) \\hat{\\jmath}, \\\\\n",
    "\\vec{a} &= - g \\, \\hat{\\jmath}.\n",
    "\\end{aligned}\n",
    "$$\n",
    "\n",
    "<b>Observación:</b> Note que si $\\alpha = 90^{\\circ}$ y $x_i = 0$, recuperamos el movimiento de una partícula describiendo un lanzamiento vertical en el eje $y$. Si además, $v_i = 0$, la partícula describe una caída libre. "
   ]
  },
  {
   "cell_type": "code",
   "execution_count": 9,
   "metadata": {},
   "outputs": [],
   "source": [
    "#1) Parámetros:\n",
    "\n",
    "#Condiciones iniciales (modificar sólo esta parte):\n",
    "t_i = 0         #[s]\n",
    "x_i = 2         #[m]\n",
    "y_i = 1       #[m]\n",
    "v_i = 10        #[m/s]\n",
    "alpha = 45      #grados sexagesimales\n",
    "\n",
    "alpha_rad = np.pi*alpha/180\n",
    "g = 9.8        #[m/s^2]"
   ]
  },
  {
   "cell_type": "code",
   "execution_count": 10,
   "metadata": {},
   "outputs": [],
   "source": [
    "#2) Componentes de la posición y velocidad:\n",
    "\n",
    "def pos(t):\n",
    "    x = x_i + v_i*np.cos(alpha_rad)*(t - t_i)\n",
    "    y = y_i + v_i*np.sin(alpha_rad)*(t - t_i) - 0.5*g*(t - t_i)**2\n",
    "\n",
    "    return x,y\n",
    "\n",
    "def velo(t):\n",
    "    v_x = v_i*np.cos(alpha_rad)\n",
    "    v_y = v_i*np.sin(alpha_rad) - g*(t - t_i)\n",
    "    \n",
    "    return v_x,v_y\n"
   ]
  },
  {
   "cell_type": "code",
   "execution_count": 11,
   "metadata": {},
   "outputs": [],
   "source": [
    "#3) Cantidades características del movimiento parabólico:\n",
    "\n",
    "#Tiempo donde alcanza la altura máxima y el tiempo de vuelo:\n",
    "t_max = t_i + v_i*np.sin(alpha_rad)/g\n",
    "t_vuelo = t_i + (np.sqrt(v_i**2*np.sin(alpha_rad)**2 + 2*g*y_i) + v_i*np.sin(alpha_rad))/g"
   ]
  },
  {
   "cell_type": "code",
   "execution_count": 37,
   "metadata": {},
   "outputs": [],
   "source": [
    "#4) Variables para graficar la trayectoria completa:\n",
    "N = 400                            #Número de puntos de la partición del intervalo de tiempo.\n",
    "t_T = np.linspace(t_i,t_vuelo,N)    #El intervalo de tiempo empieza desde el tiempo inicial hasta el tiempo de vuelo.\n",
    "x_T, y_T = pos(t_T)                 #Arreglo con las coordenadas x e y de la trayectoria"
   ]
  },
  {
   "cell_type": "code",
   "execution_count": null,
   "metadata": {},
   "outputs": [
    {
     "data": {
      "application/vnd.jupyter.widget-view+json": {
       "model_id": "2fd8e1de5ac04f05a30f9d6f701f9872",
       "version_major": 2,
       "version_minor": 0
      },
      "text/plain": [
       "interactive(children=(FloatSlider(value=0.0, description='t', max=1.5728295160929755, step=0.01), Dropdown(des…"
      ]
     },
     "metadata": {},
     "output_type": "display_data"
    }
   ],
   "source": [
    "#5) Gráfico interactivo:\n",
    "@widgets.interact(t=(t_i, t_vuelo,0.01),posicion = ['Mostrar','No mostrar'],velocidad = ['Mostrar','No mostrar'])\n",
    "def figura(t=0,posicion = 'Mostrar',velocidad = 'Mostrar'):\n",
    "    #5.1) Coordenadas de la posición y velocidad en el tiempo t:\n",
    "    x,y = pos(t)\n",
    "    v_x, v_y = velo(t)         \n",
    "\n",
    "    fig = plt.figure(figsize=(7,5))\n",
    "    #5.2) Gráfica de la trayectoria:\n",
    "    plt.plot(x_T,y_T,color = 'black',linewidth = 1.6,alpha = 0.7)\n",
    "\n",
    "    #5.3) Posición inicial y posición en el tiempo t:\n",
    "    plt.scatter(x_i,y_i,s = 40,marker = 'o',linewidth = 1.2,color = 'green', edgecolors='black',zorder = 3,label = 'Posición Inicial')\n",
    "    plt.scatter(x,y,s = 40,marker = 'o',linewidth = 1.2,color = 'red', edgecolors='black',zorder = 3)\n",
    "\n",
    "    #5.4) Redimensión del gráfico para la caída libre y el lanzamiento vertical:\n",
    "    if (0 <= x_i and x_i < 0.1 and alpha == 90):\n",
    "        x_max = 0.1\n",
    "        y_max = pos(t_max)[1]\n",
    "    \n",
    "    else:\n",
    "        #Altura máxima y distancia recorrida en x:\n",
    "        x_max = pos(t_vuelo)[0]\n",
    "        y_max = pos(t_max)[1]\n",
    "\n",
    "    #5.5) Gráfico del vector posición:\n",
    "    if posicion == 'Mostrar':\n",
    "        #Vector posición:\n",
    "        tail = [0,0]              #Inicio del vector posición    \n",
    "        q_1 = plt.quiver(*tail,x,y,angles=\"xy\",scale_units=\"xy\",scale=1,facecolor='firebrick',headaxislength = 4,width = 0.006,zorder = 4)\n",
    "        \n",
    "        #Texto de las coordenadas x e y en el tiempo t:\n",
    "        text_kwargs1 = dict(ha='center', va='center', fontsize=15, color='black')\n",
    "        x_txt = r'$'+str(round(x,5))+'$'\n",
    "        y_txt = r'$'+str(round(y,5))+'$'\n",
    "        plt.text(1.2*x_max, y_max, r'$x = $' + x_txt,**text_kwargs1, bbox = dict(boxstyle=\"round\",ec=(1., 0.5, 0.5),fc=(1., 0.8, 0.8)))\n",
    "        plt.text(1.2*x_max, 0.85*y_max , r'$y = $' + y_txt,**text_kwargs1,bbox = dict(boxstyle=\"round\",ec=(1., 0.5, 0.5),fc=(1., 0.8, 0.8)))\n",
    "\n",
    "    #5.6) Gráfico del vector velocidad:\n",
    "    if velocidad == 'Mostrar':\n",
    "        #Vector velocidad:\n",
    "        tail_v = [x,y]              #Inicio del vector velocidad\n",
    "        q_1 = plt.quiver(*tail_v,v_x,v_y,angles=\"xy\",scale_units=\"xy\", scale = 10, linewidth = 0.5,facecolor='navy',headaxislength = 4,width = 0.006,zorder = 2)\n",
    "\n",
    "        #Texto de las componentes v_x y v_y en el tiempo t:\n",
    "        text_kwargs = dict(ha='center', va='center', fontsize=15, color='black')\n",
    "        v_x_txt = r'$'+str(round(v_x,5))+'$'\n",
    "        v_y_txt = r'$'+str(round(v_y,5))+'$'\n",
    "        plt.text(1.2*x_max, 0.7*y_max, r'$v_x = $' + v_x_txt,**text_kwargs,bbox = dict(boxstyle=\"round\",ec=(0.4, 0.6, 1.0),fc=(0.8, 0.9, 1.0)))\n",
    "        plt.text(1.2*x_max, 0.55*y_max , r'$v_y = $' + v_y_txt,**text_kwargs,bbox = dict(boxstyle=\"round\",ec=(0.4, 0.6, 1.0),fc=(0.8, 0.9, 1.0)))\n",
    "\n",
    "    #5.7) Estética del plot:\n",
    "    ax = plt.gca()\n",
    "    ax.set_facecolor(\"white\")\n",
    "    plt.grid(False)\n",
    "\n",
    "    if (0 <= x_i and x_i < 0.1 and alpha == 90):\n",
    "        plt.xlim(-0.1,0.1)\n",
    "\n",
    "    else:\n",
    "        plt.xlim(0,1.05*x_max)\n",
    "        \n",
    "    plt.ylim(0,1.1*y_max)\n",
    "\n",
    "    plt.xlabel(r'$x \\ {\\rm (m)}$',fontsize = 15)\n",
    "    plt.ylabel(r'$y \\ {\\rm (m)}$',fontsize = 15)\n",
    "    plt.legend(loc = 'best')"
   ]
  }
 ],
 "metadata": {
  "kernelspec": {
   "display_name": "base",
   "language": "python",
   "name": "python3"
  },
  "language_info": {
   "codemirror_mode": {
    "name": "ipython",
    "version": 3
   },
   "file_extension": ".py",
   "mimetype": "text/x-python",
   "name": "python",
   "nbconvert_exporter": "python",
   "pygments_lexer": "ipython3",
   "version": "3.11.4"
  }
 },
 "nbformat": 4,
 "nbformat_minor": 2
}
